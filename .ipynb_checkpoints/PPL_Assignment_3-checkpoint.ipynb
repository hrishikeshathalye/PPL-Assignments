{
 "cells": [
  {
   "cell_type": "markdown",
   "metadata": {
    "colab_type": "text",
    "id": "86Fzjw5iCRvm"
   },
   "source": [
    "Python Program to demonstrate OOP concepts of Encapsulation and Abstraction"
   ]
  },
  {
   "cell_type": "code",
   "execution_count": 16,
   "metadata": {
    "colab": {},
    "colab_type": "code",
    "id": "0ggidrS27Zbi"
   },
   "outputs": [],
   "source": [
    "#Parent Class\n",
    "class Animal:\n",
    "  def __init__(self):\n",
    "    self._type = '' #Protected Member(Accessible to methods and derived classes)\n",
    "    self.__kingdom = 'Animalia' #Private Member(Accessible to methods only)\n",
    "  #Public Atrributes\n",
    "  name = ''\n",
    "  color = ''\n",
    "  sound = ''\n",
    "  #Method of the class which has access to private instance variable\n",
    "  def get_kingdom(self):\n",
    "    print('{}'.format(self.__kingdom))\n",
    "  \n",
    "  #Getter and setter functions to demonstrate abstraction   \n",
    "  def set_name(self,name):\n",
    "    self.name = name\n",
    "  def set_color(self,color):\n",
    "    self.color = color\n",
    "  def set_sound(self,sound):\n",
    "    self.sound = sound\n",
    "  def get_name(self):\n",
    "    print(\"Name is {}.\".format(self.name))\n",
    "  def get_color(self):\n",
    "    print(\"{} is {} in color.\".format(self.name,self.color))\n",
    "  def get_sound(self):\n",
    "    print(\"{} {}s\".format(self.name,self.sound))   "
   ]
  },
  {
   "cell_type": "code",
   "execution_count": 2,
   "metadata": {
    "colab": {},
    "colab_type": "code",
    "id": "L3iCNN1A-FVo"
   },
   "outputs": [],
   "source": [
    "#Child class 1\n",
    "class cat(Animal):\n",
    "  def __init__(self):\n",
    "    self._type = 'Cat' #Accessing a protected member via base class\n",
    "\n",
    "  def get_type(self):\n",
    "    # print(self.__kingdom) #Accessing a private member results in an error\n",
    "    print('{} is a {}'.format(self.name,self._type))"
   ]
  },
  {
   "cell_type": "code",
   "execution_count": 3,
   "metadata": {
    "colab": {},
    "colab_type": "code",
    "id": "8NTmD5oyFT-3"
   },
   "outputs": [],
   "source": [
    "#Child class 2\n",
    "class dog(Animal):\n",
    "  def __init__(self):\n",
    "    self._type = 'Dog' #Accessing a protected member via base class\n",
    "\n",
    "  def get_type(self):\n",
    "    # print(self.__kingdom) #Accessing a private member results in an error\n",
    "    print('{} is a {}'.format(self.name,self._type))"
   ]
  },
  {
   "cell_type": "code",
   "execution_count": 4,
   "metadata": {
    "colab": {},
    "colab_type": "code",
    "id": "g90M5h8uFdpu"
   },
   "outputs": [],
   "source": [
    "#Child class 3\n",
    "class bat(Animal):\n",
    "  def __init__(self):\n",
    "    self._type = 'Bat' #Accessing a protected member via base class\n",
    "\n",
    "  def get_type(self):\n",
    "    # print(self.__kingdom) #Accessing a private member results in an error\n",
    "    print('{} is a {}'.format(self.name,self._type))"
   ]
  },
  {
   "cell_type": "code",
   "execution_count": 5,
   "metadata": {
    "colab": {},
    "colab_type": "code",
    "id": "_xumJas_GLbR"
   },
   "outputs": [],
   "source": [
    "#Child class 4\n",
    "class donkey(Animal):\n",
    "  def __init__(self):\n",
    "    self._type = 'Donkey' #Accessing a protected member via base class\n",
    "\n",
    "  def get_type(self):\n",
    "    # print(self.__kingdom) #Accessing a private member results in an error\n",
    "    print('{} is a {}'.format(self.name,self._type))"
   ]
  },
  {
   "cell_type": "code",
   "execution_count": 6,
   "metadata": {
    "colab": {},
    "colab_type": "code",
    "id": "4LnKZWEYIEMa"
   },
   "outputs": [],
   "source": [
    "#Child class 5\n",
    "class horse(Animal):\n",
    "  def __init__(self):\n",
    "    self._type = 'Horse' #Accessing a protected member via base class\n",
    "\n",
    "  def get_type(self):\n",
    "    # print(self.__kingdom) #Accessing a private member results in an error\n",
    "    print('{} is a {}'.format(self.name,self._type))"
   ]
  },
  {
   "cell_type": "code",
   "execution_count": 7,
   "metadata": {
    "colab": {},
    "colab_type": "code",
    "id": "4KLQAIU2IFAM"
   },
   "outputs": [],
   "source": [
    "#Child class 6\n",
    "class cow(Animal):\n",
    "  def __init__(self):\n",
    "    self._type = 'Cow' #Accessing a protected member via base class\n",
    "\n",
    "  def get_type(self):\n",
    "    # print(self.__kingdom) #Accessing a private member results in an error\n",
    "    print('{} is a {}'.format(self.name,self._type))"
   ]
  },
  {
   "cell_type": "code",
   "execution_count": 8,
   "metadata": {
    "colab": {},
    "colab_type": "code",
    "id": "e9403isGIFOX"
   },
   "outputs": [],
   "source": [
    "#Child class 7\n",
    "class eagle(Animal):\n",
    "  def __init__(self):\n",
    "    self._type = 'Eagle' #Accessing a protected member via base class\n",
    "\n",
    "  def get_type(self):\n",
    "    # print(self.__kingdom) #Accessing a private member results in an error\n",
    "    print('{} is a {}'.format(self.name,self._type))"
   ]
  },
  {
   "cell_type": "code",
   "execution_count": 9,
   "metadata": {
    "colab": {},
    "colab_type": "code",
    "id": "6E9Z_FI0IFb7"
   },
   "outputs": [],
   "source": [
    "#Child class 8\n",
    "class tiger(Animal):\n",
    "  def __init__(self):\n",
    "    self._type = 'Tiger' #Accessing a protected member via base class\n",
    "\n",
    "  def get_type(self):\n",
    "    # print(self.__kingdom) #Accessing a private member results in an error\n",
    "    print('{} is a {}'.format(self.name,self._type))"
   ]
  },
  {
   "cell_type": "code",
   "execution_count": 10,
   "metadata": {
    "colab": {},
    "colab_type": "code",
    "id": "SAD63_8uIFpl"
   },
   "outputs": [],
   "source": [
    "#Child class 9\n",
    "class lion(Animal):\n",
    "  def __init__(self):\n",
    "    self._type = 'Lion' #Accessing a protected member via base class\n",
    "\n",
    "  def get_type(self):\n",
    "    # print(self.__kingdom) #Accessing a private member results in an error\n",
    "    print('{} is a {}'.format(self.name,self._type))"
   ]
  },
  {
   "cell_type": "code",
   "execution_count": 11,
   "metadata": {
    "colab": {},
    "colab_type": "code",
    "id": "mbBSWwZdIF4S"
   },
   "outputs": [],
   "source": [
    "#Child class 10\n",
    "class cheetah(Animal):\n",
    "  def __init__(self):\n",
    "    self._type = 'Cheetah' #Accessing a protected member via base class\n",
    "\n",
    "  def get_type(self):\n",
    "    # print(self.__kingdom) #Accessing a private member results in an error\n",
    "    print('{} is a {}'.format(self.name,self._type))"
   ]
  },
  {
   "cell_type": "code",
   "execution_count": 18,
   "metadata": {
    "colab": {},
    "colab_type": "code",
    "id": "R0hl_kLlJDo4"
   },
   "outputs": [],
   "source": [
    "c = cheetah()"
   ]
  },
  {
   "cell_type": "code",
   "execution_count": 19,
   "metadata": {
    "colab": {
     "base_uri": "https://localhost:8080/",
     "height": 34
    },
    "colab_type": "code",
    "id": "UaMNgGfoJGS9",
    "outputId": "bf30f7e4-763c-460c-ab15-e9da9522bf0e"
   },
   "outputs": [
    {
     "name": "stdout",
     "output_type": "stream",
     "text": [
      "Cheetos is a Cheetah\n"
     ]
    }
   ],
   "source": [
    "c.set_name('Cheetos')\n",
    "c.get_type()"
   ]
  },
  {
   "cell_type": "code",
   "execution_count": 20,
   "metadata": {
    "colab": {},
    "colab_type": "code",
    "id": "P8QOxpxGJJJu"
   },
   "outputs": [
    {
     "ename": "AttributeError",
     "evalue": "'cheetah' object has no attribute '_Animal__kingdom'",
     "output_type": "error",
     "traceback": [
      "\u001b[1;31m---------------------------------------------------------------------------\u001b[0m",
      "\u001b[1;31mAttributeError\u001b[0m                            Traceback (most recent call last)",
      "\u001b[1;32m<ipython-input-20-cc0ba870be22>\u001b[0m in \u001b[0;36m<module>\u001b[1;34m\u001b[0m\n\u001b[1;32m----> 1\u001b[1;33m \u001b[0mc\u001b[0m\u001b[1;33m.\u001b[0m\u001b[0m_get_kingdom\u001b[0m\u001b[1;33m(\u001b[0m\u001b[1;33m)\u001b[0m\u001b[1;33m\u001b[0m\u001b[1;33m\u001b[0m\u001b[0m\n\u001b[0m",
      "\u001b[1;32m<ipython-input-1-46e228dd8d6d>\u001b[0m in \u001b[0;36m_get_kingdom\u001b[1;34m(self)\u001b[0m\n\u001b[0;32m     10\u001b[0m   \u001b[1;31m#Method of the class which has access to private instance variable\u001b[0m\u001b[1;33m\u001b[0m\u001b[1;33m\u001b[0m\u001b[1;33m\u001b[0m\u001b[0m\n\u001b[0;32m     11\u001b[0m   \u001b[1;32mdef\u001b[0m \u001b[0m_get_kingdom\u001b[0m\u001b[1;33m(\u001b[0m\u001b[0mself\u001b[0m\u001b[1;33m)\u001b[0m\u001b[1;33m:\u001b[0m\u001b[1;33m\u001b[0m\u001b[1;33m\u001b[0m\u001b[0m\n\u001b[1;32m---> 12\u001b[1;33m     \u001b[0mprint\u001b[0m\u001b[1;33m(\u001b[0m\u001b[1;34m'{}'\u001b[0m\u001b[1;33m.\u001b[0m\u001b[0mformat\u001b[0m\u001b[1;33m(\u001b[0m\u001b[0mself\u001b[0m\u001b[1;33m.\u001b[0m\u001b[0m__kingdom\u001b[0m\u001b[1;33m)\u001b[0m\u001b[1;33m)\u001b[0m\u001b[1;33m\u001b[0m\u001b[1;33m\u001b[0m\u001b[0m\n\u001b[0m\u001b[0;32m     13\u001b[0m \u001b[1;33m\u001b[0m\u001b[0m\n\u001b[0;32m     14\u001b[0m   \u001b[1;31m#Getter and setter functions to demonstrate abstraction\u001b[0m\u001b[1;33m\u001b[0m\u001b[1;33m\u001b[0m\u001b[1;33m\u001b[0m\u001b[0m\n",
      "\u001b[1;31mAttributeError\u001b[0m: 'cheetah' object has no attribute '_Animal__kingdom'"
     ]
    }
   ],
   "source": [
    "\n",
    "c._get_kingdom()"
   ]
  },
  {
   "cell_type": "code",
   "execution_count": null,
   "metadata": {},
   "outputs": [],
   "source": []
  }
 ],
 "metadata": {
  "colab": {
   "collapsed_sections": [],
   "name": "PPL Assignment 3.ipynb",
   "provenance": []
  },
  "kernelspec": {
   "display_name": "Python 3",
   "language": "python",
   "name": "python3"
  },
  "language_info": {
   "codemirror_mode": {
    "name": "ipython",
    "version": 3
   },
   "file_extension": ".py",
   "mimetype": "text/x-python",
   "name": "python",
   "nbconvert_exporter": "python",
   "pygments_lexer": "ipython3",
   "version": "3.7.6"
  }
 },
 "nbformat": 4,
 "nbformat_minor": 1
}

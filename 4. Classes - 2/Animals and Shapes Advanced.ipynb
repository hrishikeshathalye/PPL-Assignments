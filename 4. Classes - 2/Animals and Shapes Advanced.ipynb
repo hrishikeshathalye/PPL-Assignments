{
 "cells": [
  {
   "cell_type": "markdown",
   "metadata": {},
   "source": [
    "<h3>This notebook shows advanced OOP concepts by implementing animal and shape classes</h3>"
   ]
  },
  {
   "cell_type": "code",
   "execution_count": 60,
   "metadata": {},
   "outputs": [],
   "source": [
    "from abc import ABC, abstractmethod #import the library that enables the Abstract base class feature"
   ]
  },
  {
   "cell_type": "code",
   "execution_count": 9,
   "metadata": {},
   "outputs": [],
   "source": [
    "class animal(ABC): #shape is an abstract base class\n",
    "#getter and setter functions, since private and protected methods aren't to be accessed directly, this implements data hiding\n",
    "    _name = '' #protected attribute\n",
    "    _sound = ''\n",
    "    _color = ''\n",
    "    __species = 'Animal'\n",
    "    @abstractmethod #this is a decorator function\n",
    "    def getName(self):\n",
    "        pass\n",
    "    @abstractmethod\n",
    "    def getSound(self):\n",
    "        pass\n",
    "    @abstractmethod\n",
    "    def getColor(self):\n",
    "        pass\n",
    "    @abstractmethod\n",
    "    def setName(self, name):\n",
    "        pass\n",
    "    @abstractmethod\n",
    "    def setSound(self, sound):\n",
    "        pass\n",
    "    @abstractmethod\n",
    "    def setColor(self, color):\n",
    "        pass\n",
    "    @abstractmethod\n",
    "    def setSpecies(self, species):\n",
    "        pass"
   ]
  },
  {
   "cell_type": "code",
   "execution_count": 10,
   "metadata": {},
   "outputs": [
    {
     "ename": "TypeError",
     "evalue": "Can't instantiate abstract class animal with abstract methods getColor, getName, getSound, setColor, setName, setSound, setSpecies",
     "output_type": "error",
     "traceback": [
      "\u001b[0;31m---------------------------------------------------------------------------\u001b[0m",
      "\u001b[0;31mTypeError\u001b[0m                                 Traceback (most recent call last)",
      "\u001b[0;32m<ipython-input-10-75e9a6ca631f>\u001b[0m in \u001b[0;36m<module>\u001b[0;34m\u001b[0m\n\u001b[0;32m----> 1\u001b[0;31m \u001b[0ma\u001b[0m \u001b[0;34m=\u001b[0m \u001b[0manimal\u001b[0m\u001b[0;34m(\u001b[0m\u001b[0;34m)\u001b[0m  \u001b[0;31m#trying to instantiate an abstract class generates error\u001b[0m\u001b[0;34m\u001b[0m\u001b[0;34m\u001b[0m\u001b[0m\n\u001b[0m",
      "\u001b[0;31mTypeError\u001b[0m: Can't instantiate abstract class animal with abstract methods getColor, getName, getSound, setColor, setName, setSound, setSpecies"
     ]
    }
   ],
   "source": [
    "a = animal()  #trying to instantiate an abstract class generates error"
   ]
  },
  {
   "cell_type": "markdown",
   "metadata": {},
   "source": [
    "<h3>Following this we define subclasses that inherit from the animal abstract base class and implement specific animals. Each of the classes below implements the same Animal abstract base class.</h3>"
   ]
  },
  {
   "cell_type": "code",
   "execution_count": 44,
   "metadata": {},
   "outputs": [],
   "source": [
    "class Dog(animal):\n",
    "    #constructor\n",
    "    def __init__(self):\n",
    "        self._name = 'Dog' #protected attribute\n",
    "        self._sound = 'Bark'\n",
    "        self._color = 'Brown'\n",
    "    #implementing abstract base class methods\n",
    "    def getName(self):\n",
    "        print(\"The animal is\", self._name)\n",
    "    def getSound(self):\n",
    "        print(self._name, self._sound + \"s.\")\n",
    "    def getColor(self):\n",
    "        print(self._name, \"is\", self._color, \"colored.\")\n",
    "    def setName(self, name):\n",
    "        self._name = name\n",
    "    def setSound(self, sound):\n",
    "        self._sound = sound\n",
    "    def setColor(self, color):\n",
    "        self._color = color\n",
    "    def setSpecies(self, species):\n",
    "        self.__species = species\n",
    "    def describe(self):\n",
    "        self.getName()\n",
    "        self.getSound()\n",
    "        self.getColor()"
   ]
  },
  {
   "cell_type": "code",
   "execution_count": 45,
   "metadata": {},
   "outputs": [],
   "source": [
    "class Cat(animal):\n",
    "    #constructor\n",
    "    def __init__(self):\n",
    "        self._name = 'Cat' #protected attribute\n",
    "        self._sound = 'Meow'\n",
    "        self._color = 'White'\n",
    "    #implementing abstract base class methods\n",
    "    def getName(self):\n",
    "        print(\"The animal is\", self._name)\n",
    "    def getSound(self):\n",
    "        print(self._name, self._sound + \"s.\")\n",
    "    def getColor(self):\n",
    "        print(self._name, \"is\", self._color, \"colored.\")\n",
    "    def setName(self, name):\n",
    "        self._name = name\n",
    "    def setSound(self, sound):\n",
    "        self._sound = sound\n",
    "    def setColor(self, color):\n",
    "        self._color = color\n",
    "    def setSpecies(self, species):\n",
    "        self.__species = species\n",
    "    def describe(self):\n",
    "        self.getName()\n",
    "        self.getSound()\n",
    "        self.getColor()"
   ]
  },
  {
   "cell_type": "code",
   "execution_count": 46,
   "metadata": {},
   "outputs": [],
   "source": [
    "class Wolf(animal):\n",
    "    #constructor\n",
    "    def __init__(self):\n",
    "        self._name = 'Wolf' #protected attribute\n",
    "        self._sound = 'Howl'\n",
    "        self._color = 'Grey'\n",
    "    #implementing abstract base class methods\n",
    "    def getName(self):\n",
    "        print(\"The animal is\", self._name)\n",
    "    def getSound(self):\n",
    "        print(self._name, self._sound + \"s.\")\n",
    "    def getColor(self):\n",
    "        print(self._name, \"is\", self._color, \"colored.\")\n",
    "    def setName(self, name):\n",
    "        self._name = name\n",
    "    def setSound(self, sound):\n",
    "        self._sound = sound\n",
    "    def setColor(self, color):\n",
    "        self._color = color\n",
    "    def setSpecies(self, species):\n",
    "        self.__species = species\n",
    "    def describe(self):\n",
    "        self.getName()\n",
    "        self.getSound()\n",
    "        self.getColor()"
   ]
  },
  {
   "cell_type": "code",
   "execution_count": 47,
   "metadata": {},
   "outputs": [],
   "source": [
    "class Bear(animal):\n",
    "    #constructor\n",
    "    def __init__(self):\n",
    "        self._name = 'Bear' #protected attribute\n",
    "        self._sound = 'Growl'\n",
    "        self._color = 'Brown'\n",
    "    #implementing abstract base class methods\n",
    "    def getName(self):\n",
    "        print(\"The animal is\", self._name)\n",
    "    def getSound(self):\n",
    "        print(self._name, self._sound + \"s.\")\n",
    "    def getColor(self):\n",
    "        print(self._name, \"is\", self._color, \"colored.\")\n",
    "    def setName(self, name):\n",
    "        self._name = name\n",
    "    def setSound(self, sound):\n",
    "        self._sound = sound\n",
    "    def setColor(self, color):\n",
    "        self._color = color\n",
    "    def setSpecies(self, species):\n",
    "        self.__species = species\n",
    "    def describe(self):\n",
    "        self.getName()\n",
    "        self.getSound()\n",
    "        self.getColor()"
   ]
  },
  {
   "cell_type": "code",
   "execution_count": 48,
   "metadata": {},
   "outputs": [],
   "source": [
    "class Cow(animal):\n",
    "    #constructor\n",
    "    def __init__(self):\n",
    "        self._name = 'Cow' #protected attribute\n",
    "        self._sound = 'Moo'\n",
    "        self._color = 'White'\n",
    "    #implementing abstract base class methods\n",
    "    def getName(self):\n",
    "        print(\"The animal is\", self._name)\n",
    "    def getSound(self):\n",
    "        print(self._name, self._sound + \"s.\")\n",
    "    def getColor(self):\n",
    "        print(self._name, \"is\", self._color, \"colored.\")\n",
    "    def setName(self, name):\n",
    "        self._name = name\n",
    "    def setSound(self, sound):\n",
    "        self._sound = sound\n",
    "    def setColor(self, color):\n",
    "        self._color = color\n",
    "    def setSpecies(self, species):\n",
    "        self.__species = species\n",
    "    def describe(self):\n",
    "        self.getName()\n",
    "        self.getSound()\n",
    "        self.getColor()"
   ]
  },
  {
   "cell_type": "code",
   "execution_count": 49,
   "metadata": {},
   "outputs": [],
   "source": [
    "class Horse(animal):\n",
    "    #constructor\n",
    "    def __init__(self):\n",
    "        self._name = 'Horse' #protected attribute\n",
    "        self._sound = 'Neigh'\n",
    "        self._color = 'White'\n",
    "    #implementing abstract base class methods\n",
    "    def getName(self):\n",
    "        print(\"The animal is\", self._name)\n",
    "    def getSound(self):\n",
    "        print(self._name, self._sound + \"s.\")\n",
    "    def getColor(self):\n",
    "        print(self._name, \"is\", self._color, \"colored.\")\n",
    "    def setName(self, name):\n",
    "        self._name = name\n",
    "    def setSound(self, sound):\n",
    "        self._sound = sound\n",
    "    def setColor(self, color):\n",
    "        self._color = color\n",
    "    def setSpecies(self, species):\n",
    "        self.__species = species\n",
    "    def describe(self):\n",
    "        self.getName()\n",
    "        self.getSound()\n",
    "        self.getColor()"
   ]
  },
  {
   "cell_type": "code",
   "execution_count": 50,
   "metadata": {},
   "outputs": [],
   "source": [
    "class Lion(animal):\n",
    "    #constructor\n",
    "    def __init__(self):\n",
    "        self._name = 'Lion' #protected attribute\n",
    "        self._sound = 'Roar'\n",
    "        self._color = 'Brown'\n",
    "    #implementing abstract base class methods\n",
    "    def getName(self):\n",
    "        print(\"The animal is\", self._name)\n",
    "    def getSound(self):\n",
    "        print(self._name, self._sound + \"s.\")\n",
    "    def getColor(self):\n",
    "        print(self._name, \"is\", self._color, \"colored.\")\n",
    "    def setName(self, name):\n",
    "        self._name = name\n",
    "    def setSound(self, sound):\n",
    "        self._sound = sound\n",
    "    def setColor(self, color):\n",
    "        self._color = color\n",
    "    def setSpecies(self, species):\n",
    "        self.__species = species\n",
    "    def describe(self):\n",
    "        self.getName()\n",
    "        self.getSound()\n",
    "        self.getColor()"
   ]
  },
  {
   "cell_type": "code",
   "execution_count": 51,
   "metadata": {},
   "outputs": [],
   "source": [
    "class Tiger(animal):\n",
    "    #constructor\n",
    "    def __init__(self):\n",
    "        self._name = 'Tiger' #protected attribute\n",
    "        self._sound = 'Roar'\n",
    "        self._color = 'Golden'\n",
    "    #implementing abstract base class methods\n",
    "    def getName(self):\n",
    "        print(\"The animal is\", self._name)\n",
    "    def getSound(self):\n",
    "        print(self._name, self._sound + \"s.\")\n",
    "    def getColor(self):\n",
    "        print(self._name, \"is\", self._color, \"colored.\")\n",
    "    def setName(self, name):\n",
    "        self._name = name\n",
    "    def setSound(self, sound):\n",
    "        self._sound = sound\n",
    "    def setColor(self, color):\n",
    "        self._color = color\n",
    "    def setSpecies(self, species):\n",
    "        self.__species = species\n",
    "    def describe(self):\n",
    "        self.getName()\n",
    "        self.getSound()\n",
    "        self.getColor()"
   ]
  },
  {
   "cell_type": "code",
   "execution_count": 52,
   "metadata": {},
   "outputs": [],
   "source": [
    "class Owl(animal):\n",
    "    #constructor\n",
    "    def __init__(self):\n",
    "        self._name = 'Owl' #protected attribute\n",
    "        self._sound = 'Hoot'\n",
    "        self._color = 'Grey'\n",
    "    #implementing abstract base class methods\n",
    "    def getName(self):\n",
    "        print(\"The animal is\", self._name)\n",
    "    def getSound(self):\n",
    "        print(self._name, self._sound + \"s.\")\n",
    "    def getColor(self):\n",
    "        print(self._name, \"is\", self._color, \"colored.\")\n",
    "    def setName(self, name):\n",
    "        self._name = name\n",
    "    def setSound(self, sound):\n",
    "        self._sound = sound\n",
    "    def setColor(self, color):\n",
    "        self._color = color\n",
    "    def setSpecies(self, species):\n",
    "        self.__species = species\n",
    "    def describe(self):\n",
    "        self.getName()\n",
    "        self.getSound()\n",
    "        self.getColor()"
   ]
  },
  {
   "cell_type": "markdown",
   "metadata": {},
   "source": [
    "<h3>Example Usage</h3>"
   ]
  },
  {
   "cell_type": "code",
   "execution_count": 53,
   "metadata": {},
   "outputs": [],
   "source": [
    "h = Horse()"
   ]
  },
  {
   "cell_type": "code",
   "execution_count": 54,
   "metadata": {},
   "outputs": [
    {
     "name": "stdout",
     "output_type": "stream",
     "text": [
      "The animal is Horse\n",
      "Horse Neighs.\n",
      "Horse is White colored.\n"
     ]
    }
   ],
   "source": [
    "h.describe()"
   ]
  },
  {
   "cell_type": "code",
   "execution_count": 55,
   "metadata": {},
   "outputs": [
    {
     "ename": "AttributeError",
     "evalue": "'Tiger' object has no attribute '__species'",
     "output_type": "error",
     "traceback": [
      "\u001b[0;31m---------------------------------------------------------------------------\u001b[0m",
      "\u001b[0;31mAttributeError\u001b[0m                            Traceback (most recent call last)",
      "\u001b[0;32m<ipython-input-55-9b2352faf829>\u001b[0m in \u001b[0;36m<module>\u001b[0;34m\u001b[0m\n\u001b[0;32m----> 1\u001b[0;31m \u001b[0mt\u001b[0m\u001b[0;34m.\u001b[0m\u001b[0m__species\u001b[0m\u001b[0;34m(\u001b[0m\u001b[0;34m)\u001b[0m \u001b[0;31m#Can't accesss private member species\u001b[0m\u001b[0;34m\u001b[0m\u001b[0;34m\u001b[0m\u001b[0m\n\u001b[0m",
      "\u001b[0;31mAttributeError\u001b[0m: 'Tiger' object has no attribute '__species'"
     ]
    }
   ],
   "source": [
    "t.__species() #Can't accesss private member species"
   ]
  },
  {
   "cell_type": "code",
   "execution_count": 56,
   "metadata": {},
   "outputs": [],
   "source": [
    "c = Cat()"
   ]
  },
  {
   "cell_type": "code",
   "execution_count": 57,
   "metadata": {},
   "outputs": [
    {
     "name": "stdout",
     "output_type": "stream",
     "text": [
      "The animal is Cat\n",
      "Cat Meows.\n",
      "Cat is White colored.\n"
     ]
    }
   ],
   "source": [
    "c.describe()"
   ]
  },
  {
   "cell_type": "code",
   "execution_count": 58,
   "metadata": {},
   "outputs": [
    {
     "ename": "AttributeError",
     "evalue": "'Cat' object has no attribute '__species'",
     "output_type": "error",
     "traceback": [
      "\u001b[0;31m---------------------------------------------------------------------------\u001b[0m",
      "\u001b[0;31mAttributeError\u001b[0m                            Traceback (most recent call last)",
      "\u001b[0;32m<ipython-input-58-9f276b9871b6>\u001b[0m in \u001b[0;36m<module>\u001b[0;34m\u001b[0m\n\u001b[0;32m----> 1\u001b[0;31m \u001b[0mc\u001b[0m\u001b[0;34m.\u001b[0m\u001b[0m__species\u001b[0m\u001b[0;34m(\u001b[0m\u001b[0;34m)\u001b[0m \u001b[0;31m#Can't accesss private member species\u001b[0m\u001b[0;34m\u001b[0m\u001b[0;34m\u001b[0m\u001b[0m\n\u001b[0m",
      "\u001b[0;31mAttributeError\u001b[0m: 'Cat' object has no attribute '__species'"
     ]
    }
   ],
   "source": [
    "c.__species() #Can't accesss private member species"
   ]
  },
  {
   "cell_type": "markdown",
   "metadata": {},
   "source": [
    "<h3>Shapes:</h3>"
   ]
  },
  {
   "cell_type": "code",
   "execution_count": 61,
   "metadata": {},
   "outputs": [],
   "source": [
    "import math\n",
    "import turtle"
   ]
  },
  {
   "cell_type": "markdown",
   "metadata": {},
   "source": [
    "<h4>Abstract Base Class Shape</h4>"
   ]
  },
  {
   "cell_type": "code",
   "execution_count": 64,
   "metadata": {},
   "outputs": [],
   "source": [
    "class shape(ABC): #shape is an abstract base class\n",
    "    _sides = 0\n",
    "    _area = 0\n",
    "    _perimeter = 0\n",
    "    @abstractmethod\n",
    "    def getarea(self):\n",
    "        pass\n",
    "    @abstractmethod\n",
    "    def getperimeter(self):\n",
    "        pass \n",
    "    @abstractmethod\n",
    "    def draw_shape(self): \n",
    "        pass"
   ]
  },
  {
   "cell_type": "code",
   "execution_count": 65,
   "metadata": {},
   "outputs": [
    {
     "ename": "TypeError",
     "evalue": "Can't instantiate abstract class shape with abstract methods draw_shape, getarea, getperimeter",
     "output_type": "error",
     "traceback": [
      "\u001b[0;31m---------------------------------------------------------------------------\u001b[0m",
      "\u001b[0;31mTypeError\u001b[0m                                 Traceback (most recent call last)",
      "\u001b[0;32m<ipython-input-65-3094cc93fe70>\u001b[0m in \u001b[0;36m<module>\u001b[0;34m\u001b[0m\n\u001b[0;32m----> 1\u001b[0;31m \u001b[0ms\u001b[0m \u001b[0;34m=\u001b[0m \u001b[0mshape\u001b[0m\u001b[0;34m(\u001b[0m\u001b[0;34m)\u001b[0m  \u001b[0;31m#trying to instantiate an abstract class generates error\u001b[0m\u001b[0;34m\u001b[0m\u001b[0;34m\u001b[0m\u001b[0m\n\u001b[0m",
      "\u001b[0;31mTypeError\u001b[0m: Can't instantiate abstract class shape with abstract methods draw_shape, getarea, getperimeter"
     ]
    }
   ],
   "source": [
    "s = shape()  #trying to instantiate an abstract class generates error"
   ]
  },
  {
   "cell_type": "markdown",
   "metadata": {},
   "source": [
    "<h4>Rectangle</h4>"
   ]
  },
  {
   "cell_type": "code",
   "execution_count": 66,
   "metadata": {},
   "outputs": [],
   "source": [
    "class rectangle(shape):\n",
    "    def __init__(self, side1, side2):\n",
    "        self._side1 = side1\n",
    "        self._side2 = side2\n",
    "        self._sides = 4\n",
    "    def getarea(self):\n",
    "        self._area = (self._side1*self._side2)\n",
    "        print(\"Area = {}\".format(self._area))\n",
    "    def getperimeter(self):\n",
    "        self._perimeter = 2*(self._side1+self._side2)\n",
    "        print(\"Perimeter = {}\".format(self._perimeter))\n",
    "    def draw_shape(self):\n",
    "        turtle.clear()\n",
    "        turtle.forward(self._side1)\n",
    "        turtle.left(90)\n",
    "        turtle.forward(self._side2)\n",
    "        turtle.left(90)\n",
    "        turtle.forward(self._side1)\n",
    "        turtle.left(90)\n",
    "        turtle.forward(self._side2)"
   ]
  },
  {
   "cell_type": "code",
   "execution_count": 68,
   "metadata": {},
   "outputs": [],
   "source": [
    "r = rectangle(100, 200)\n",
    "r.draw_shape()"
   ]
  },
  {
   "cell_type": "markdown",
   "metadata": {},
   "source": [
    "<h4>Square</h4>"
   ]
  },
  {
   "cell_type": "code",
   "execution_count": 70,
   "metadata": {},
   "outputs": [],
   "source": [
    "class square(rectangle):\n",
    "    def __init__(self, side1):\n",
    "        self._side1 = side1\n",
    "        self._side2 = side1"
   ]
  },
  {
   "cell_type": "code",
   "execution_count": 72,
   "metadata": {},
   "outputs": [],
   "source": [
    "s = square(100)\n",
    "s.draw_shape()"
   ]
  },
  {
   "cell_type": "markdown",
   "metadata": {},
   "source": [
    "<h4>Triangle</h4>"
   ]
  },
  {
   "cell_type": "code",
   "execution_count": 73,
   "metadata": {},
   "outputs": [],
   "source": [
    "class triangle(shape):\n",
    "    def __init__(self, side1, side2, side3, angle1, angle2):\n",
    "        self._side1 = side1\n",
    "        self._side2 = side2\n",
    "        self._side3 = side3\n",
    "        self._angle1 = angle1\n",
    "        self._angle2 = angle2\n",
    "        self._sides = 3\n",
    "    def getperimeter(self):\n",
    "        self._perimeter = self._side1 + self._side2 + self._side3\n",
    "        print(\"Perimeter = {}\".format(self._perimeter))\n",
    "    def getarea(self):\n",
    "        sp = (self._side1 + self._side2 + self._side3)/2\n",
    "        self._area = math.sqrt((sp)*(sp-self._side1)*(sp-self._side2)*(sp-self._side3))\n",
    "        print(\"Area = {}\".format(self._area))\n",
    "    def draw_shape(self):\n",
    "        turtle.clear()\n",
    "        turtle.forward(self._side1)\n",
    "        turtle.left(2*self._angle1)\n",
    "        turtle.forward(self._side2)\n",
    "        turtle.left(2*self._angle2)\n",
    "        turtle.forward(self._side3)"
   ]
  },
  {
   "cell_type": "code",
   "execution_count": 79,
   "metadata": {},
   "outputs": [],
   "source": [
    "t = triangle(100, 100, 100, 60, 60)\n",
    "t.draw_shape()"
   ]
  },
  {
   "cell_type": "markdown",
   "metadata": {},
   "source": [
    "<h4>Rhombus</h4>"
   ]
  },
  {
   "cell_type": "code",
   "execution_count": 80,
   "metadata": {},
   "outputs": [],
   "source": [
    "class rhombus(rectangle):\n",
    "    def __init__(self, diag1, diag2):\n",
    "        self.diag1 = diag1\n",
    "        self.diag2 = diag2\n",
    "        self._side1 = (self.diag1**2 + self.diag2**2)**(0.5)/2\n",
    "        self._side2 = (self.diag1**2 + self.diag2**2)**(0.5)/2\n",
    "\n",
    "    def getarea(self): #function overriding\n",
    "        self._area = (0.5*self.diag1*self.diag2)\n",
    "        print(\"Area = {}\".format(self._area))\n",
    "\n",
    "    def draw_shape(self):\n",
    "        side = self._side1\n",
    "        angle1 = math.acos(((side**2)*2 - self.diag1**2)/(2*side*side))\n",
    "        angle1 = math.degrees(angle1)\n",
    "        angle2 = (360 - 2*angle1)/2\n",
    "        turtle.forward(side)\n",
    "        turtle.right(angle1)\n",
    "        turtle.forward(side)\n",
    "        turtle.right(angle2)\n",
    "        turtle.forward(side)\n",
    "        turtle.right(angle1)\n",
    "        turtle.forward(side)"
   ]
  },
  {
   "cell_type": "code",
   "execution_count": 86,
   "metadata": {},
   "outputs": [],
   "source": [
    "r = rhombus(250,200)\n",
    "r.draw_shape()"
   ]
  },
  {
   "cell_type": "markdown",
   "metadata": {},
   "source": [
    "<h4>Parallelogram</h4>"
   ]
  },
  {
   "cell_type": "code",
   "execution_count": 87,
   "metadata": {},
   "outputs": [],
   "source": [
    "class parallelogram(rectangle):\n",
    "    def __init__(self, side1, side2, angle1):\n",
    "        self._side1 = side1\n",
    "        self._side2 = side2\n",
    "        self._angle1 = angle1\n",
    "\n",
    "    def draw_shape(self):\n",
    "        turtle.clear()\n",
    "        turtle.forward(self._side1)\n",
    "        turtle.left(self._angle1)\n",
    "        turtle.forward(self._side2)\n",
    "        turtle.left(180-self._angle1)\n",
    "        turtle.forward(self._side1)\n",
    "        turtle.left(self._angle1)\n",
    "        turtle.forward(self._side2)"
   ]
  },
  {
   "cell_type": "code",
   "execution_count": 89,
   "metadata": {},
   "outputs": [],
   "source": [
    "p = parallelogram(200, 100, 60)\n",
    "p.draw_shape()"
   ]
  },
  {
   "cell_type": "markdown",
   "metadata": {},
   "source": [
    "<h4>Circle</h4>"
   ]
  },
  {
   "cell_type": "code",
   "execution_count": 90,
   "metadata": {},
   "outputs": [],
   "source": [
    "class circle(shape):\n",
    "    def __init__(self, radius):\n",
    "        self._radius = radius\n",
    "    def getarea(self):\n",
    "        self._area = (math.pi*self._radius*self._radius)\n",
    "        print(\"Area = {}\".format(self._area))\n",
    "    def getperimeter(self):\n",
    "        self._perimeter = (2*(math.pi)*self._radius)\n",
    "        print(\"Perimeter = {}\".format(self._perimeter))\n",
    "    def draw_shape(self):\n",
    "        turtle.clear()\n",
    "        turtle.circle(self._radius)"
   ]
  },
  {
   "cell_type": "code",
   "execution_count": 92,
   "metadata": {},
   "outputs": [],
   "source": [
    "c = circle(100)\n",
    "c.draw_shape()"
   ]
  },
  {
   "cell_type": "markdown",
   "metadata": {},
   "source": [
    "<h4>Ellipse</h4>"
   ]
  },
  {
   "cell_type": "code",
   "execution_count": 94,
   "metadata": {},
   "outputs": [],
   "source": [
    "class ellipse(shape):\n",
    "    def __init__(self, a, b):\n",
    "        self._a = a\n",
    "        self._b = b\n",
    "    def getarea(self):\n",
    "        self._area = (math.pi*self._a*self._b)\n",
    "        print(\"Area = {}\".format(self._area))\n",
    "    def getperimeter(self):\n",
    "        self._perimeter = ((math.pi)*(self._a + self._b))\n",
    "        print(\"Perimeter(Crude Approximation) = {}\".format(self._perimeter))\n",
    "    def draw_shape(self):\n",
    "        turtle.clear()\n",
    "        turtle.shape(\"circle\")\n",
    "        turtle.shapesize(self._a,self._b,1)\n",
    "        turtle.fillcolor(\"white\")"
   ]
  },
  {
   "cell_type": "code",
   "execution_count": 96,
   "metadata": {},
   "outputs": [],
   "source": [
    "e = ellipse(10, 5)\n",
    "e.draw_shape()"
   ]
  },
  {
   "cell_type": "markdown",
   "metadata": {},
   "source": [
    "<h4>Regular Polygon</h4>"
   ]
  },
  {
   "cell_type": "code",
   "execution_count": 98,
   "metadata": {},
   "outputs": [],
   "source": [
    "class polygon(shape):\n",
    "    def __init__(self, n, l):\n",
    "        self._sides = n\n",
    "        self._length = l\n",
    "    def getarea(self):\n",
    "        self._area = (math.pow(self._length,2)*self._sides)/(4*abs(math.tan(180/self._sides)))\n",
    "        print(\"Area = {}\".format(self._area))\n",
    "    def getperimeter(self):\n",
    "        self._perimeter = (self._sides*self._length)\n",
    "        print(\"Perimeter = {}\".format(self._perimeter))\n",
    "    def draw_shape(self):\n",
    "        turtle.clear()\n",
    "        for i in range(self._sides): \n",
    "            turtle.forward(self._length) \n",
    "            turtle.right(360 / self._sides) "
   ]
  },
  {
   "cell_type": "code",
   "execution_count": 101,
   "metadata": {},
   "outputs": [],
   "source": [
    "p = polygon(6, 100)\n",
    "p.draw_shape()"
   ]
  }
 ],
 "metadata": {
  "kernelspec": {
   "display_name": "Python 3",
   "language": "python",
   "name": "python3"
  },
  "language_info": {
   "codemirror_mode": {
    "name": "ipython",
    "version": 3
   },
   "file_extension": ".py",
   "mimetype": "text/x-python",
   "name": "python",
   "nbconvert_exporter": "python",
   "pygments_lexer": "ipython3",
   "version": "3.7.6"
  }
 },
 "nbformat": 4,
 "nbformat_minor": 4
}

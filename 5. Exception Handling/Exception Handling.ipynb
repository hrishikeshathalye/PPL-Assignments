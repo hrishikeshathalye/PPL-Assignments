{
 "cells": [
  {
   "cell_type": "markdown",
   "metadata": {},
   "source": [
    "This notebook demonstrates various kinds of exceptions in Python. Some of the most commonly occuring exceptions have been handled in try, except, finally manner."
   ]
  },
  {
   "cell_type": "markdown",
   "metadata": {},
   "source": [
    "<h3>1. Assertion Error</h3>"
   ]
  },
  {
   "cell_type": "code",
   "execution_count": 1,
   "metadata": {},
   "outputs": [],
   "source": [
    "def assertion(val):\n",
    "    assert val"
   ]
  },
  {
   "cell_type": "code",
   "execution_count": 2,
   "metadata": {},
   "outputs": [
    {
     "name": "stdout",
     "output_type": "stream",
     "text": [
      "Assertion Error Caught\n",
      "Assertion error is raised if we assert something that is false. This demonstrates assertion error.\n"
     ]
    }
   ],
   "source": [
    "try:\n",
    "    assertion(False)\n",
    "except AssertionError:\n",
    "    print(\"Assertion Error Caught\")\n",
    "finally:\n",
    "    print(\"Assertion error is raised if we assert something that is false. This demonstrates assertion error.\")\n",
    "    "
   ]
  },
  {
   "cell_type": "markdown",
   "metadata": {},
   "source": [
    "<h3>2. Attribute Error</h3>"
   ]
  },
  {
   "cell_type": "code",
   "execution_count": 3,
   "metadata": {},
   "outputs": [],
   "source": [
    "class sample():\n",
    "    def __init__(self):\n",
    "        self.member = 3"
   ]
  },
  {
   "cell_type": "code",
   "execution_count": 4,
   "metadata": {},
   "outputs": [
    {
     "name": "stdout",
     "output_type": "stream",
     "text": [
      "Attribute Error Caught\n",
      "Assertion error is raised when a non-existent attribute is accessed. This demonstrates attribute error.\n"
     ]
    }
   ],
   "source": [
    "s = sample()\n",
    "try:\n",
    "    print(s.someMember)\n",
    "except AttributeError:\n",
    "    print(\"Attribute Error Caught\")\n",
    "finally:\n",
    "    print(\"Assertion error is raised when a non-existent attribute is accessed. This demonstrates attribute error.\")"
   ]
  },
  {
   "cell_type": "markdown",
   "metadata": {},
   "source": [
    "<h3>3. Index Error</h3>"
   ]
  },
  {
   "cell_type": "code",
   "execution_count": 5,
   "metadata": {},
   "outputs": [],
   "source": [
    "l = [1,2,3]"
   ]
  },
  {
   "cell_type": "code",
   "execution_count": 6,
   "metadata": {},
   "outputs": [
    {
     "name": "stdout",
     "output_type": "stream",
     "text": [
      "Not a valid index!\n",
      "Exception handled by appending the list.\n",
      "4\n"
     ]
    }
   ],
   "source": [
    "try :\n",
    "    print(l[3])\n",
    "except :\n",
    "    print(\"Not a valid index!\")\n",
    "    print(\"Exception handled by appending the list.\")\n",
    "    l.append(4)\n",
    "finally :\n",
    "    print(l[3])"
   ]
  },
  {
   "cell_type": "markdown",
   "metadata": {},
   "source": [
    "<h3>4. Key Error</h3>"
   ]
  },
  {
   "cell_type": "code",
   "execution_count": 7,
   "metadata": {},
   "outputs": [
    {
     "name": "stdout",
     "output_type": "stream",
     "text": [
      "No such key!\n",
      "Exception handled by adding required key.\n",
      "3\n"
     ]
    }
   ],
   "source": [
    "dic = {'a':1,'b':2}\n",
    "\n",
    "try:\n",
    "    print(dic['c'])\n",
    "except KeyError:\n",
    "    print(\"No such key!\")\n",
    "    print(\"Exception handled by adding required key.\")\n",
    "    dic['c'] = 3\n",
    "finally:\n",
    "    print(dic['c'])\n"
   ]
  },
  {
   "cell_type": "markdown",
   "metadata": {},
   "source": [
    "<h3>5. Name Error</h3>"
   ]
  },
  {
   "cell_type": "code",
   "execution_count": 8,
   "metadata": {},
   "outputs": [
    {
     "name": "stdout",
     "output_type": "stream",
     "text": [
      "Name Error Caught\n",
      "Name error is raised when a non-existent object is accessed. This demonstrates name error.\n"
     ]
    }
   ],
   "source": [
    "try:\n",
    "    print(undefinedVar)\n",
    "except:\n",
    "    print(\"Name Error Caught\")\n",
    "finally:\n",
    "    print(\"Name error is raised when a non-existent object is accessed. This demonstrates name error.\")"
   ]
  },
  {
   "cell_type": "markdown",
   "metadata": {},
   "source": [
    "<h3>6. Some File Errors</h3>"
   ]
  },
  {
   "cell_type": "code",
   "execution_count": 9,
   "metadata": {},
   "outputs": [
    {
     "name": "stdout",
     "output_type": "stream",
     "text": [
      "Error handled by creating file.\n",
      "FileNotFoundError is raised when a non-existent file is accessed. This demonstrates FileNotFoundError.\n"
     ]
    }
   ],
   "source": [
    "try:\n",
    "    f = open(\"file.txt\")\n",
    "except FileNotFoundError:\n",
    "    print(\"Error handled by creating file.\")\n",
    "    f = open(\"file.txt\", \"w+\")\n",
    "finally:\n",
    "    print(\"FileNotFoundError is raised when a non-existent file is accessed. This demonstrates FileNotFoundError.\")"
   ]
  },
  {
   "cell_type": "code",
   "execution_count": 10,
   "metadata": {},
   "outputs": [
    {
     "name": "stdout",
     "output_type": "stream",
     "text": [
      "Cannot create the folder since it already exists.\n",
      "FileExistsError is raised when a folder is already present. This demonstrates FileExistsError.\n"
     ]
    }
   ],
   "source": [
    "import os\n",
    "try:\n",
    "    os.mkdir(\"someFolder\")\n",
    "except FileExistsError:\n",
    "    print(\"Cannot create the folder since it already exists.\")\n",
    "finally:\n",
    "    print(\"FileExistsError is raised when a folder is already present. This demonstrates FileExistsError.\")"
   ]
  },
  {
   "cell_type": "code",
   "execution_count": 11,
   "metadata": {},
   "outputs": [
    {
     "name": "stdout",
     "output_type": "stream",
     "text": [
      "PermissionError Caught. It is raised since a read-only file is being opened in write mode.\n",
      "PermissionError is raised when sufficient permissions are absent. This demonstrates PermissionError.\n"
     ]
    }
   ],
   "source": [
    "try:\n",
    "    open(\"readOnlyFile.txt\", \"w\")\n",
    "except PermissionError:\n",
    "    print(\"PermissionError Caught. It is raised since a read-only file is being opened in write mode.\")\n",
    "finally:\n",
    "     print(\"PermissionError is raised when sufficient permissions are absent. This demonstrates PermissionError.\")"
   ]
  }
 ],
 "metadata": {
  "kernelspec": {
   "display_name": "Python 3",
   "language": "python",
   "name": "python3"
  },
  "language_info": {
   "codemirror_mode": {
    "name": "ipython",
    "version": 3
   },
   "file_extension": ".py",
   "mimetype": "text/x-python",
   "name": "python",
   "nbconvert_exporter": "python",
   "pygments_lexer": "ipython3",
   "version": "3.7.6"
  }
 },
 "nbformat": 4,
 "nbformat_minor": 4
}
